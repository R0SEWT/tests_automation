{
 "cells": [
  {
   "cell_type": "code",
   "execution_count": 5,
   "id": "34f72fdd",
   "metadata": {},
   "outputs": [],
   "source": [
    "expect_result_path = \"expectResult.txt\"\n",
    "cps_path = \"cps.txt\"\n",
    "resultados = \"resultados.txt\"\n",
    "\n",
    "# Open the files\n",
    "with open(expect_result_path, \"r\") as f:\n",
    "    expect_result = f.read()\n",
    "with open(cps_path, \"r\") as f:\n",
    "    cps = f.read()\n",
    "with open(resultados, \"r\") as f:\n",
    "    resultados = f.read()\n",
    "\n",
    "expect_result = expect_result.splitlines()\n",
    "cps = cps.splitlines()\n",
    "resultados = resultados.splitlines()\n",
    "\n"
   ]
  },
  {
   "cell_type": "code",
   "execution_count": null,
   "id": "d4777114",
   "metadata": {},
   "outputs": [],
   "source": [
    "from openai import OpenAI\n",
    "\n",
    "Visma_Seek_Api = \"sk-8811953733e4417abf2e0b41c56eb5a9\"\n",
    "\n",
    "def get_feedback_on_corrections(expect_result, resultados, batch_size=10):\n",
    "    client = OpenAI(api_key=Visma_Seek_Api, base_url=\"https://api.deepseek.com\")\n",
    "\n",
    "    # Dividir los datos en lotes\n",
    "    batches = [\n",
    "        (expect_result[i:i + batch_size], resultados[i:i + batch_size])\n",
    "        for i in range(0, len(expect_result), batch_size)\n",
    "    ]\n",
    "\n",
    "    feedback = []\n",
    "    for batch_expect, batch_result in batches:\n",
    "        response = client.chat.completions.create(\n",
    "            model=\"deepseek-chat\",\n",
    "            messages=[\n",
    "                {\"role\": \"system\", \"content\": \"Eres un experto en pruebas de software. Tu tarea es analizar las correcciones realizadas al 'expect_result' y generar observaciones sobre las diferencias.\"},\n",
    "                {\"role\": \"user\", \"content\": f\"Resultados esperados originales: {batch_expect}\"},\n",
    "                {\"role\": \"user\", \"content\": f\"Resultados corregidos: {batch_result}\"},\n",
    "                {\"role\": \"user\", \"content\": \"Genera observaciones sobre las diferencias entre los resultados esperados originales y los corregidos. Usa el formato: OBS 1: Observación sobre la diferencia, EXPECTED: xxxxxxx, RESULT: xxxxxxx. No incluyas comillas ni formato adicional.\"}\n",
    "            ],\n",
    "            stream=False\n",
    "        )\n",
    "        # Acumular el feedback\n",
    "        feedback.append(response.choices[0].message.content)\n",
    "        break\n",
    "\n",
    "    # Combinar todas las observaciones en un resumen\n",
    "    return \"\\n\".join(feedback)\n",
    "\n",
    "# Llamar a la función y generar el feedback\n",
    "feedback = get_feedback_on_corrections(expect_result, resultados)\n",
    "print(\"Feedback sobre las correcciones:\")\n",
    "print(feedback)\n",
    "\n",
    "# Guardar el feedback en un archivo\n",
    "with open(\"feedback_correcciones.txt\", \"w\") as f:\n",
    "    f.write(feedback)"
   ]
  },
  {
   "cell_type": "code",
   "execution_count": null,
   "id": "6c752734",
   "metadata": {},
   "outputs": [],
   "source": []
  }
 ],
 "metadata": {
  "kernelspec": {
   "display_name": "cp_atmation",
   "language": "python",
   "name": "python3"
  },
  "language_info": {
   "codemirror_mode": {
    "name": "ipython",
    "version": 3
   },
   "file_extension": ".py",
   "mimetype": "text/x-python",
   "name": "python",
   "nbconvert_exporter": "python",
   "pygments_lexer": "ipython3",
   "version": "3.10.16"
  }
 },
 "nbformat": 4,
 "nbformat_minor": 5
}
